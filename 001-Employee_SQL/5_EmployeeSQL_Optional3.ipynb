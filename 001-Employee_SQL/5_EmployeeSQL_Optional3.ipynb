{
 "cells": [
  {
   "cell_type": "code",
   "execution_count": 1,
   "metadata": {},
   "outputs": [],
   "source": [
    "## IMPORT DEPENDENCIES\n",
    "# Pandas\n",
    "import pandas as pd\n",
    "import psycopg2\n",
    "\n",
    "#%matplotlib Notebook\n",
    "%matplotlib inline\n",
    "import matplotlib.pyplot as plt\n"
   ]
  },
  {
   "cell_type": "code",
   "execution_count": 2,
   "metadata": {},
   "outputs": [],
   "source": [
    "#!/usr/bin/env python\n",
    "import config as cfg"
   ]
  },
  {
   "cell_type": "code",
   "execution_count": 3,
   "metadata": {},
   "outputs": [
    {
     "name": "stdout",
     "output_type": "stream",
     "text": [
      "Connected!\n"
     ]
    }
   ],
   "source": [
    "# Set up a connection to the postgres server.\n",
    "# establish connection\n",
    "\n",
    "Connection = psycopg2.connect(\"dbname=YourDatabase port=YourPort user=YourUserName password=YourPassword\")\n",
    "\n",
    "print(\"Connected!\")"
   ]
  },
  {
   "cell_type": "code",
   "execution_count": 4,
   "metadata": {},
   "outputs": [],
   "source": [
    "# Query SALARIES table\n",
    "\n",
    "Employee_DF = pd.read_sql(\n",
    "    \"SELECT * \\\n",
    "    FROM EMPLOYEE AS E \\\n",
    "    INNER JOIN SALARIES AS S \\\n",
    "    ON E.EMPLOYEE_NO = S.EMPLOYEE_NO \\\n",
    "        INNER JOIN TITLES AS T \\\n",
    "        ON E.EMPLOYEE_NO = T.EMPLOYEE_NO\", \n",
    "    Connection\n",
    ")\n"
   ]
  },
  {
   "cell_type": "code",
   "execution_count": 5,
   "metadata": {},
   "outputs": [
    {
     "data": {
      "text/html": [
       "<div>\n",
       "<style scoped>\n",
       "    .dataframe tbody tr th:only-of-type {\n",
       "        vertical-align: middle;\n",
       "    }\n",
       "\n",
       "    .dataframe tbody tr th {\n",
       "        vertical-align: top;\n",
       "    }\n",
       "\n",
       "    .dataframe thead th {\n",
       "        text-align: right;\n",
       "    }\n",
       "</style>\n",
       "<table border=\"1\" class=\"dataframe\">\n",
       "  <thead>\n",
       "    <tr style=\"text-align: right;\">\n",
       "      <th></th>\n",
       "      <th>employee_no</th>\n",
       "      <th>birth_date</th>\n",
       "      <th>first_name</th>\n",
       "      <th>last_name</th>\n",
       "      <th>gender</th>\n",
       "      <th>hire_date</th>\n",
       "      <th>employee_no</th>\n",
       "      <th>salary</th>\n",
       "      <th>from_date</th>\n",
       "      <th>to_date</th>\n",
       "      <th>employee_no</th>\n",
       "      <th>title</th>\n",
       "      <th>from_date</th>\n",
       "      <th>to_date</th>\n",
       "    </tr>\n",
       "  </thead>\n",
       "  <tbody>\n",
       "    <tr>\n",
       "      <th>0</th>\n",
       "      <td>10005</td>\n",
       "      <td>1955-01-21</td>\n",
       "      <td>Kyoichi</td>\n",
       "      <td>Maliniak</td>\n",
       "      <td>M</td>\n",
       "      <td>1989-09-12</td>\n",
       "      <td>10005</td>\n",
       "      <td>$78,228.00</td>\n",
       "      <td>1989-09-12</td>\n",
       "      <td>1990-09-12</td>\n",
       "      <td>10005</td>\n",
       "      <td>Senior Staff</td>\n",
       "      <td>1996-09-12</td>\n",
       "      <td>9999-01-01</td>\n",
       "    </tr>\n",
       "    <tr>\n",
       "      <th>1</th>\n",
       "      <td>10005</td>\n",
       "      <td>1955-01-21</td>\n",
       "      <td>Kyoichi</td>\n",
       "      <td>Maliniak</td>\n",
       "      <td>M</td>\n",
       "      <td>1989-09-12</td>\n",
       "      <td>10005</td>\n",
       "      <td>$78,228.00</td>\n",
       "      <td>1989-09-12</td>\n",
       "      <td>1990-09-12</td>\n",
       "      <td>10005</td>\n",
       "      <td>Staff</td>\n",
       "      <td>1989-09-12</td>\n",
       "      <td>1996-09-12</td>\n",
       "    </tr>\n",
       "    <tr>\n",
       "      <th>2</th>\n",
       "      <td>10010</td>\n",
       "      <td>1963-06-01</td>\n",
       "      <td>Duangkaew</td>\n",
       "      <td>Piveteau</td>\n",
       "      <td>F</td>\n",
       "      <td>1989-08-24</td>\n",
       "      <td>10010</td>\n",
       "      <td>$72,488.00</td>\n",
       "      <td>1996-11-24</td>\n",
       "      <td>1997-11-24</td>\n",
       "      <td>10010</td>\n",
       "      <td>Engineer</td>\n",
       "      <td>1996-11-24</td>\n",
       "      <td>9999-01-01</td>\n",
       "    </tr>\n",
       "    <tr>\n",
       "      <th>3</th>\n",
       "      <td>10011</td>\n",
       "      <td>1953-11-07</td>\n",
       "      <td>Mary</td>\n",
       "      <td>Sluis</td>\n",
       "      <td>F</td>\n",
       "      <td>1990-01-22</td>\n",
       "      <td>10011</td>\n",
       "      <td>$42,365.00</td>\n",
       "      <td>1990-01-22</td>\n",
       "      <td>1991-01-22</td>\n",
       "      <td>10011</td>\n",
       "      <td>Staff</td>\n",
       "      <td>1990-01-22</td>\n",
       "      <td>1996-11-09</td>\n",
       "    </tr>\n",
       "    <tr>\n",
       "      <th>4</th>\n",
       "      <td>10013</td>\n",
       "      <td>1963-06-07</td>\n",
       "      <td>Eberhardt</td>\n",
       "      <td>Terkki</td>\n",
       "      <td>M</td>\n",
       "      <td>1985-10-20</td>\n",
       "      <td>10013</td>\n",
       "      <td>$40,000.00</td>\n",
       "      <td>1985-10-20</td>\n",
       "      <td>1986-10-20</td>\n",
       "      <td>10013</td>\n",
       "      <td>Senior Staff</td>\n",
       "      <td>1985-10-20</td>\n",
       "      <td>9999-01-01</td>\n",
       "    </tr>\n",
       "  </tbody>\n",
       "</table>\n",
       "</div>"
      ],
      "text/plain": [
       "   employee_no  birth_date first_name last_name gender   hire_date  \\\n",
       "0        10005  1955-01-21    Kyoichi  Maliniak      M  1989-09-12   \n",
       "1        10005  1955-01-21    Kyoichi  Maliniak      M  1989-09-12   \n",
       "2        10010  1963-06-01  Duangkaew  Piveteau      F  1989-08-24   \n",
       "3        10011  1953-11-07       Mary     Sluis      F  1990-01-22   \n",
       "4        10013  1963-06-07  Eberhardt    Terkki      M  1985-10-20   \n",
       "\n",
       "   employee_no      salary   from_date     to_date  employee_no         title  \\\n",
       "0        10005  $78,228.00  1989-09-12  1990-09-12        10005  Senior Staff   \n",
       "1        10005  $78,228.00  1989-09-12  1990-09-12        10005         Staff   \n",
       "2        10010  $72,488.00  1996-11-24  1997-11-24        10010      Engineer   \n",
       "3        10011  $42,365.00  1990-01-22  1991-01-22        10011         Staff   \n",
       "4        10013  $40,000.00  1985-10-20  1986-10-20        10013  Senior Staff   \n",
       "\n",
       "    from_date     to_date  \n",
       "0  1996-09-12  9999-01-01  \n",
       "1  1989-09-12  1996-09-12  \n",
       "2  1996-11-24  9999-01-01  \n",
       "3  1990-01-22  1996-11-09  \n",
       "4  1985-10-20  9999-01-01  "
      ]
     },
     "execution_count": 5,
     "metadata": {},
     "output_type": "execute_result"
    }
   ],
   "source": [
    "# print data\n",
    "Employee_DF.head()"
   ]
  },
  {
   "cell_type": "code",
   "execution_count": 6,
   "metadata": {},
   "outputs": [
    {
     "data": {
      "text/plain": [
       "0         $78,228.00\n",
       "1         $78,228.00\n",
       "2         $72,488.00\n",
       "3         $42,365.00\n",
       "4         $40,000.00\n",
       "             ...    \n",
       "443303    $41,002.00\n",
       "443304    $40,000.00\n",
       "443305    $52,282.00\n",
       "443306    $40,000.00\n",
       "443307    $40,000.00\n",
       "Name: salary, Length: 443308, dtype: object"
      ]
     },
     "execution_count": 6,
     "metadata": {},
     "output_type": "execute_result"
    }
   ],
   "source": [
    "# Print salary column\n",
    "Employee_DF[\"salary\"]"
   ]
  },
  {
   "cell_type": "code",
   "execution_count": 7,
   "metadata": {},
   "outputs": [
    {
     "data": {
      "text/plain": [
       "employee_no     int64\n",
       "birth_date     object\n",
       "first_name     object\n",
       "last_name      object\n",
       "gender         object\n",
       "hire_date      object\n",
       "employee_no     int64\n",
       "salary         object\n",
       "from_date      object\n",
       "to_date        object\n",
       "employee_no     int64\n",
       "title          object\n",
       "from_date      object\n",
       "to_date        object\n",
       "dtype: object"
      ]
     },
     "execution_count": 7,
     "metadata": {},
     "output_type": "execute_result"
    }
   ],
   "source": [
    "# Data types\n",
    "Employee_DF.dtypes"
   ]
  },
  {
   "cell_type": "code",
   "execution_count": 8,
   "metadata": {},
   "outputs": [],
   "source": [
    "# remove $ sign format and convert from object to float\n",
    "Employee_DF[\"salary\"] = Employee_DF[\"salary\"].replace('[\\$,]', \n",
    "                                                      '', \n",
    "                                                      regex=True\n",
    "                                                     ).astype(float)"
   ]
  },
  {
   "cell_type": "code",
   "execution_count": 9,
   "metadata": {},
   "outputs": [
    {
     "data": {
      "text/plain": [
       "employee_no      int64\n",
       "birth_date      object\n",
       "first_name      object\n",
       "last_name       object\n",
       "gender          object\n",
       "hire_date       object\n",
       "employee_no      int64\n",
       "salary         float64\n",
       "from_date       object\n",
       "to_date         object\n",
       "employee_no      int64\n",
       "title           object\n",
       "from_date       object\n",
       "to_date         object\n",
       "dtype: object"
      ]
     },
     "execution_count": 9,
     "metadata": {},
     "output_type": "execute_result"
    }
   ],
   "source": [
    "# Data types\n",
    "Employee_DF.dtypes"
   ]
  },
  {
   "cell_type": "code",
   "execution_count": 10,
   "metadata": {},
   "outputs": [
    {
     "data": {
      "text/plain": [
       "443308"
      ]
     },
     "execution_count": 10,
     "metadata": {},
     "output_type": "execute_result"
    }
   ],
   "source": [
    "len(Employee_DF)"
   ]
  },
  {
   "cell_type": "code",
   "execution_count": 11,
   "metadata": {},
   "outputs": [
    {
     "data": {
      "image/png": "[encoded data removed]",
      "text/plain": [
       "<Figure size 432x288 with 1 Axes>"
      ]
     },
     "metadata": {
      "needs_background": "light"
     },
     "output_type": "display_data"
    }
   ],
   "source": [
    "# Salary, Histogram\n",
    "plt.hist(Employee_DF[\"salary\"])\n",
    "plt.title('Histogram - Salary')\n",
    "plt.ylabel('Counts')\n",
    "plt.xlabel('Salaries')\n",
    "plt.show()\n"
   ]
  },
  {
   "cell_type": "code",
   "execution_count": 12,
   "metadata": {},
   "outputs": [],
   "source": [
    "Employee_DF_Grouped = Employee_DF.groupby('title')"
   ]
  },
  {
   "cell_type": "code",
   "execution_count": 13,
   "metadata": {},
   "outputs": [
    {
     "data": {
      "text/plain": [
       "title\n",
       "Assistant Engineer    48493.204786\n",
       "Engineer              48539.781423\n",
       "Manager               51531.041667\n",
       "Senior Engineer       48506.751806\n",
       "Senior Staff          58503.286614\n",
       "Staff                 58465.271904\n",
       "Technique Leader      48580.505772\n",
       "Name: salary, dtype: float64"
      ]
     },
     "execution_count": 13,
     "metadata": {},
     "output_type": "execute_result"
    }
   ],
   "source": [
    "Salary_AVG = Employee_DF_Grouped['salary'].mean()\n",
    "Salary_AVG"
   ]
  },
  {
   "cell_type": "code",
   "execution_count": 14,
   "metadata": {},
   "outputs": [
    {
     "data": {
      "image/png": "[encoded data removed]",
      "text/plain": [
       "<Figure size 432x288 with 1 Axes>"
      ]
     },
     "metadata": {
      "needs_background": "light"
     },
     "output_type": "display_data"
    }
   ],
   "source": [
    "# Average Salary by Title, Bar Chart\n",
    "Salary_AVG.plot(kind=\"bar\",\n",
    "                color='lightgreen'\n",
    "               )\n",
    "plt.title('Bar Chart - Average Salary by Title')\n",
    "plt.ylabel('Salaries in $')\n",
    "plt.xlabel('Employee Titles')\n",
    "plt.show()\n"
   ]
  }
 ],
 "metadata": {
  "kernelspec": {
   "display_name": "PythonAvd (Python 6)",
   "language": "python",
   "name": "pythonavd"
  },
  "language_info": {
   "codemirror_mode": {
    "name": "ipython",
    "version": 3
   },
   "file_extension": ".py",
   "mimetype": "text/x-python",
   "name": "python",
   "nbconvert_exporter": "python",
   "pygments_lexer": "ipython3",
   "version": "3.6.10"
  }
 },
 "nbformat": 4,
 "nbformat_minor": 4
}
